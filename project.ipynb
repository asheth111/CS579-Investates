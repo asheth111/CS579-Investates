{
 "cells": [
  {
   "cell_type": "code",
   "execution_count": 57,
   "metadata": {
    "collapsed": false
   },
   "outputs": [],
   "source": [
    "# Imports you'll need.\n",
    "from collections import Counter\n",
    "import ConfigParser\n",
    "import matplotlib.pyplot as plt\n",
    "import sys\n",
    "import time\n",
    "import numpy as np\n",
    "from TwitterAPI import TwitterAPI\n",
    "from sklearn.feature_extraction.text import CountVectorizer\n",
    "\n",
    "%matplotlib inline"
   ]
  },
  {
   "cell_type": "code",
   "execution_count": 2,
   "metadata": {
    "collapsed": false
   },
   "outputs": [
    {
     "name": "stdout",
     "output_type": "stream",
     "text": [
      "Established Twitter connection.\n"
     ]
    }
   ],
   "source": [
    "# This method is done for you. Make sure to put your credentials in twitter.cfg.\n",
    "def get_twitter(config_file):\n",
    "    \"\"\" Read the config_file and construct an instance of TwitterAPI.\n",
    "    Args:\n",
    "      config_file ... A config file in ConfigParser format with Twitter credentials\n",
    "    Returns:\n",
    "      An instance of TwitterAPI.\n",
    "    \"\"\"\n",
    "    config = ConfigParser.ConfigParser()\n",
    "    config.read(config_file)\n",
    "    twitter = TwitterAPI(\n",
    "                   config.get('twitter', 'consumer_key'),\n",
    "                   config.get('twitter', 'consumer_secret'),\n",
    "                   config.get('twitter', 'access_token'),\n",
    "                   config.get('twitter', 'access_token_secret'))\n",
    "    return twitter\n",
    "\n",
    "twitter = get_twitter('twitter.cfg')\n",
    "print('Established Twitter connection.')"
   ]
  },
  {
   "cell_type": "code",
   "execution_count": 3,
   "metadata": {
    "collapsed": false
   },
   "outputs": [],
   "source": [
    "#for i in range(0, 16): ## iterate through 16 times to get max No. of tweets\n",
    "\n",
    "def fatch_available_tweets_investor(screen_name):\n",
    "    from datetime import datetime\n",
    "    investor_tweet = {}\n",
    "        \n",
    "    b = []    \n",
    "    for i in range(0, 16):\n",
    "        if i ==0:\n",
    "            request = twitter.request('statuses/user_timeline', {'screen_name': screen_name, 'count': '200' })\n",
    "        else:\n",
    "            request = twitter.request('statuses/user_timeline', {'screen_name': screen_name, 'count': '200', 'max_id' : b[-1]})\n",
    "        if request.status_code == 200:\n",
    "            for tweet in request:\n",
    "                created_at = datetime.strptime(tweet['created_at'], '%a %b %d %H:%M:%S +0000 %Y')\n",
    "                created_at = str( created_at )\n",
    "                investor_tweet[created_at] = tweet['text']\n",
    "                b.append(tweet['id']) ## append tweet id's\n",
    "        elif request.status_code == 88:\n",
    "            continue\n",
    "        else:\n",
    "            print screen_name\n",
    "            print >> sys.stderr, 'Got error:\\n', request.text, '\\nsleeping for 15 minutes.'\n",
    "            sys.stderr.flush()\n",
    "            time.sleep(61 * 15)\n",
    "        \n",
    "    return investor_tweet"
   ]
  },
  {
   "cell_type": "code",
   "execution_count": 4,
   "metadata": {
    "collapsed": true
   },
   "outputs": [],
   "source": [
    "def merge_dicts(list_of_dictionary):\n",
    "    '''\n",
    "    Given any number of dicts, shallow copy and merge into a new dict,\n",
    "    precedence goes to key value pairs in latter dicts.\n",
    "    '''\n",
    "    result = {}\n",
    "    for dictionary in list_of_dictionary:\n",
    "        result.update(dictionary)\n",
    "    return result"
   ]
  },
  {
   "cell_type": "code",
   "execution_count": 5,
   "metadata": {
    "collapsed": false
   },
   "outputs": [
    {
     "name": "stderr",
     "output_type": "stream",
     "text": [
      "Got error:\n",
      "{\"errors\":[{\"message\":\"Rate limit exceeded\",\"code\":88}]} \n",
      "sleeping for 15 minutes.\n"
     ]
    },
    {
     "name": "stdout",
     "output_type": "stream",
     "text": [
      "gregorymckenna\n",
      "\n",
      "Benzinga\n"
     ]
    },
    {
     "name": "stderr",
     "output_type": "stream",
     "text": [
      "Got error:\n",
      "{\"errors\":[{\"message\":\"Rate limit exceeded\",\"code\":88}]} \n",
      "sleeping for 15 minutes.\n"
     ]
    },
    {
     "name": "stdout",
     "output_type": "stream",
     "text": [
      "\n",
      "TheStreet\n"
     ]
    },
    {
     "name": "stderr",
     "output_type": "stream",
     "text": [
      "Got error:\n",
      "{\"errors\":[{\"message\":\"Rate limit exceeded\",\"code\":88}]} \n",
      "sleeping for 15 minutes.\n"
     ]
    },
    {
     "name": "stdout",
     "output_type": "stream",
     "text": [
      "\n",
      "vkhosla\n"
     ]
    },
    {
     "name": "stderr",
     "output_type": "stream",
     "text": [
      "Got error:\n",
      "{\"errors\":[{\"message\":\"Rate limit exceeded\",\"code\":88}]} \n",
      "sleeping for 15 minutes.\n"
     ]
    },
    {
     "name": "stdout",
     "output_type": "stream",
     "text": [
      "\n"
     ]
    }
   ],
   "source": [
    "# NOTE: Do not run this block, this is fatching all tweeter data, this will take more then an hour\n",
    "#       We have already downloaded data, go down and run the block as suggested to load all data in next to next block \n",
    "\n",
    "\n",
    "#fetch tweets from users given in \"input.txt\"\n",
    "#and generate \"data.txt\" file with all tweets \n",
    "#in jason formate like 'created date-time' -> 'tweet text'\n",
    "#also returns a complete \n",
    "\n",
    "result = []\n",
    "fopen = open(\"input.txt\")\n",
    "fopen.seek(0)\n",
    "for line in fopen:\n",
    "    tuples = fatch_available_tweets_investor(line)\n",
    "    result.append(tuples)"
   ]
  },
  {
   "cell_type": "code",
   "execution_count": 6,
   "metadata": {
    "collapsed": true
   },
   "outputs": [],
   "source": [
    "#merge all tweets from all investors in one single object\n",
    "all_tweets = merge_dicts(result)"
   ]
  },
  {
   "cell_type": "code",
   "execution_count": null,
   "metadata": {
    "collapsed": false
   },
   "outputs": [],
   "source": [
    "#Sorts all tweet in chronological order\n",
    "#Again\n",
    "# NOTE: Do not run this block, We have already done this part and stored data pickle, run next block instead \n",
    "\n",
    "print len(all_tweets)\n",
    "sorted_all_tweets = sorted(all_tweets.items(), key=operator.itemgetter(0))\n",
    "\n"
   ]
  },
  {
   "cell_type": "code",
   "execution_count": 5,
   "metadata": {
    "collapsed": false
   },
   "outputs": [],
   "source": [
    "#Just run this code for loading all tweets\n",
    "import pickle\n",
    "# We dumped all data by this command\n",
    "#pickle.dump(sorted_all_tweets, open( \"sorted_all_tweets.p\", \"wb\" ))\n",
    "\n",
    "sorted_all_tweets = pickle.load(open('sorted_all_tweets.p', 'rb'))\n",
    "\n",
    "\n"
   ]
  },
  {
   "cell_type": "code",
   "execution_count": 6,
   "metadata": {
    "collapsed": false
   },
   "outputs": [
    {
     "name": "stdout",
     "output_type": "stream",
     "text": [
      "('2009-02-14 22:52:30', u'Researching a company for potential investment.')\n"
     ]
    }
   ],
   "source": [
    "#sample of sorted tweets/testing data\n",
    "print sorted_all_tweets[5]"
   ]
  },
  {
   "cell_type": "code",
   "execution_count": 7,
   "metadata": {
    "collapsed": false
   },
   "outputs": [],
   "source": [
    "#store all data in json formate as well, in data.txt\n",
    "import json\n",
    "outf = open('data.txt', 'wt')\n",
    "json.dump(sorted_all_tweets , outf, indent=4)\n",
    "outf.close()"
   ]
  },
  {
   "cell_type": "code",
   "execution_count": 8,
   "metadata": {
    "collapsed": true
   },
   "outputs": [],
   "source": [
    "import re\n",
    "def tokenize(text):\n",
    "    \"\"\"Given a string, return a list of tokens such that: (1) all\n",
    "    tokens are lowercase, (2) all punctuation, special characters and numbers are removed. Only alphabates are considered\n",
    "    Params:\n",
    "        text....a string\n",
    "    Returns:\n",
    "        a list of tokens\n",
    "    \"\"\"\n",
    "    ###TODO\n",
    "    ###\n",
    "    text = text.lower()\n",
    "    tokens = re.sub('[^a-zA-Z]', ' ', text).split()\n",
    "    return tokens"
   ]
  },
  {
   "cell_type": "code",
   "execution_count": 9,
   "metadata": {
    "collapsed": false
   },
   "outputs": [
    {
     "data": {
      "text/plain": [
       "['my', 'name', 'is', 'tirth', 'gk', 'mayank']"
      ]
     },
     "execution_count": 9,
     "metadata": {},
     "output_type": "execute_result"
    }
   ],
   "source": [
    "#How our tokenize function works\n",
    "tokenize(\"my name is tirth 1234 5:4 @%^*&%#^&gk mayank? !\")"
   ]
  },
  {
   "cell_type": "code",
   "execution_count": 10,
   "metadata": {
    "collapsed": false
   },
   "outputs": [
    {
     "name": "stdout",
     "output_type": "stream",
     "text": [
      "vectorized 2284 tweets. found 1880 terms.\n"
     ]
    }
   ],
   "source": [
    "# Exploring and doing Proof of concepts by taking 2010 data\n",
    "\n",
    "#tweets_2009 = [(key,value) for key, value in sorted_all_tweets if key > '2009-01-01' and key < '2009-12-12']\n",
    "tweets_2010 = [(key,value) for key, value in sorted_all_tweets if key > '2010-01-01' and key < '2010-12-31']\n",
    "\n",
    "# Create feature vectors (X)\n",
    "from sklearn.feature_extraction.text import CountVectorizer\n",
    "#after few itterations and trial and error, we decided to keep min_df=2, max_df = 7 for better results\n",
    "vectorizer = CountVectorizer(tokenizer=tokenize, min_df=2, max_df = 7)\n",
    "X = vectorizer.fit_transform(t[1] for t in tweets_2010)\n",
    "print 'vectorized %d tweets. found %d terms.' % (X.shape[0], X.shape[1])"
   ]
  },
  {
   "cell_type": "code",
   "execution_count": 47,
   "metadata": {
    "collapsed": false
   },
   "outputs": [
    {
     "name": "stdout",
     "output_type": "stream",
     "text": [
      "top_indices= [1743  745 1799 ...,  630  629  939]\n",
      "top_terms:\n",
      "unicef 1743\n",
      "google 745\n",
      "wall 1799\n",
      "might 1089\n",
      "being 162\n",
      "pricing 1313\n",
      "process 1319\n",
      "haiti 774\n",
      "without 1834\n",
      "information 878\n",
      "before 156\n",
      "uk 1733\n",
      "trying 1722\n",
      "hk 814\n",
      "mateo 1059\n",
      "ready 1372\n",
      "email 523\n",
      "both 199\n",
      "elite 519\n",
      "nasdaq 1143\n"
     ]
    }
   ],
   "source": [
    "# What are the most frequent terms in our sample tweets_2010?\n",
    "\n",
    "# Sum columns:\n",
    "col_sums = X.sum(axis=0).tolist()[0]\n",
    "# Sort sums in descending order, and return the indices.\n",
    "top_indices = np.argsort(col_sums)[::-1]\n",
    "print 'top_indices=', top_indices\n",
    "vocab = np.array(vectorizer.get_feature_names())\n",
    "top_terms = vocab[top_indices]\n",
    "print 'top_terms:\\n', '\\n'.join('%s %d' % (term, count) for term, count in zip(top_terms, top_indices)[:20])"
   ]
  },
  {
   "cell_type": "code",
   "execution_count": 12,
   "metadata": {
    "collapsed": false
   },
   "outputs": [
    {
     "data": {
      "text/plain": [
       "{'agribusiness': ['agribusiness',\n",
       "  'crop',\n",
       "  'production',\n",
       "  'basic',\n",
       "  'processing',\n",
       "  'vegetables',\n",
       "  'fruits',\n",
       "  'sugar',\n",
       "  'cane',\n",
       "  'sugar',\n",
       "  'beets',\n",
       "  'tobacco',\n",
       "  'dairy',\n",
       "  'poultry',\n",
       "  'eggs',\n",
       "  'livestock',\n",
       "  'agricultural',\n",
       "  'services',\n",
       "  'products',\n",
       "  'farm',\n",
       "  'bureaus',\n",
       "  'food',\n",
       "  'processing',\n",
       "  'sales',\n",
       "  'food',\n",
       "  'products',\n",
       "  'manufacturing',\n",
       "  'food',\n",
       "  'stores',\n",
       "  'meat',\n",
       "  'processing',\n",
       "  'products',\n",
       "  'forestry',\n",
       "  'forest',\n",
       "  'products'],\n",
       " 'communicationsandelectronics': ['communicationsandelectronics',\n",
       "  'printing',\n",
       "  'publishing',\n",
       "  'books',\n",
       "  'magazines',\n",
       "  'newspapers',\n",
       "  'tv',\n",
       "  'movies',\n",
       "  'music',\n",
       "  'cable',\n",
       "  'satellite',\n",
       "  'tv',\n",
       "  'production',\n",
       "  'distribution',\n",
       "  'commercial',\n",
       "  'tv',\n",
       "  'radio',\n",
       "  'stations',\n",
       "  'motion',\n",
       "  'picture',\n",
       "  'production',\n",
       "  'distribution',\n",
       "  'recorded',\n",
       "  'music',\n",
       "  'music',\n",
       "  'production',\n",
       "  'tv',\n",
       "  'production',\n",
       "  'telephone',\n",
       "  'utilities',\n",
       "  'telecom',\n",
       "  'services',\n",
       "  'equipment',\n",
       "  'electronics',\n",
       "  'manufacturing',\n",
       "  'equipment',\n",
       "  'internet'],\n",
       " 'construction': ['construction',\n",
       "  'contractors',\n",
       "  'home',\n",
       "  'builders',\n",
       "  'contractors',\n",
       "  'construction',\n",
       "  'architectural',\n",
       "  'building',\n",
       "  'materials',\n",
       "  'equipment'],\n",
       " 'defence': ['defence',\n",
       "  'defence',\n",
       "  'aerospace',\n",
       "  'war',\n",
       "  'terrorist',\n",
       "  'plane',\n",
       "  'helicopter',\n",
       "  'defense',\n",
       "  'gun'],\n",
       " 'education': ['education',\n",
       "  'non',\n",
       "  'profit',\n",
       "  'education',\n",
       "  'teacher',\n",
       "  'student',\n",
       "  'college',\n",
       "  'university',\n",
       "  'exam',\n",
       "  'book',\n",
       "  'books',\n",
       "  'study',\n",
       "  'laptop',\n",
       "  'professor',\n",
       "  'math',\n",
       "  'science',\n",
       "  'technology',\n",
       "  'history',\n",
       "  'physics',\n",
       "  'marks',\n",
       "  'grade',\n",
       "  'result'],\n",
       " 'energyandnaturalresources': ['energyandnaturalresources',\n",
       "  'oil',\n",
       "  'gas',\n",
       "  'natural',\n",
       "  'pipelines',\n",
       "  'coal',\n",
       "  'mining',\n",
       "  'energy',\n",
       "  'electric',\n",
       "  'utilities',\n",
       "  'waste',\n",
       "  'management'],\n",
       " 'entertainment': ['entertainment',\n",
       "  'recreation',\n",
       "  'sports',\n",
       "  'arenas',\n",
       "  'equipment',\n",
       "  'casinos',\n",
       "  'gambling',\n",
       "  'gaming',\n",
       "  'movie',\n",
       "  'game',\n",
       "  'fun',\n",
       "  'television',\n",
       "  'tv'],\n",
       " 'finance': ['finance',\n",
       "  'insurance',\n",
       "  'real',\n",
       "  'estate',\n",
       "  'commercial',\n",
       "  'banks',\n",
       "  'savings',\n",
       "  'loans',\n",
       "  'credit',\n",
       "  'unions',\n",
       "  'finance',\n",
       "  'credit',\n",
       "  'companies',\n",
       "  'loan',\n",
       "  'companies',\n",
       "  'payday',\n",
       "  'lenders',\n",
       "  'investment',\n",
       "  'venture',\n",
       "  'capital',\n",
       "  'hedge',\n",
       "  'funds',\n",
       "  'equity',\n",
       "  'firms',\n",
       "  'insurance',\n",
       "  'real',\n",
       "  'estate',\n",
       "  'mortgage',\n",
       "  'bankers',\n",
       "  'brokers',\n",
       "  'accountants',\n",
       "  'business'],\n",
       " 'food': ['food',\n",
       "  'beverage',\n",
       "  'restaurants',\n",
       "  'drinking',\n",
       "  'beer',\n",
       "  'wine',\n",
       "  'liquor',\n",
       "  'beef',\n",
       "  'bacon',\n",
       "  'turkey',\n",
       "  'chips',\n",
       "  'sandwich',\n",
       "  'pop',\n",
       "  'pepsi',\n",
       "  'donut',\n",
       "  'coffee',\n",
       "  'beans',\n",
       "  'tea',\n",
       "  'vegetables',\n",
       "  'meat',\n",
       "  'vegan',\n",
       "  'taste',\n",
       "  'spicies',\n",
       "  'spicy',\n",
       "  'seafood'],\n",
       " 'health': ['health',\n",
       "  'health',\n",
       "  'insurance',\n",
       "  'professionals',\n",
       "  'chiropractors',\n",
       "  'dentists',\n",
       "  'nurses',\n",
       "  'hospitals',\n",
       "  'nursing',\n",
       "  'homes',\n",
       "  'hmos',\n",
       "  'pharmaceuticals',\n",
       "  'medical',\n",
       "  'supplies',\n",
       "  'nutritional',\n",
       "  'dietary',\n",
       "  'supplements',\n",
       "  'manufacturing'],\n",
       " 'ideologicalandsingleissue': ['ideologicalandsingleissue',\n",
       "  'republican',\n",
       "  'conservative',\n",
       "  'democratic',\n",
       "  'liberal',\n",
       "  'leadership',\n",
       "  'pacs',\n",
       "  'democratic',\n",
       "  'republican',\n",
       "  'leadership',\n",
       "  'pacs',\n",
       "  'foreign',\n",
       "  'defense',\n",
       "  'policy',\n",
       "  'pro',\n",
       "  'israel',\n",
       "  'women',\n",
       "  's',\n",
       "  'human',\n",
       "  'gay',\n",
       "  'lesbian',\n",
       "  'environment',\n",
       "  'control',\n",
       "  'rights',\n",
       "  'issue',\n",
       "  'abortion',\n",
       "  'republican',\n",
       "  'democratic'],\n",
       " 'informationtechnology': ['informationtechnology',\n",
       "  'ip',\n",
       "  'programming',\n",
       "  'security',\n",
       "  'information',\n",
       "  'artificial',\n",
       "  'intelligence',\n",
       "  'algorithm',\n",
       "  'computer',\n",
       "  'science',\n",
       "  'parallel',\n",
       "  'computing',\n",
       "  'multimedia',\n",
       "  'systems',\n",
       "  'virtual',\n",
       "  'reality',\n",
       "  'software',\n",
       "  'open',\n",
       "  'source',\n",
       "  'graphics',\n",
       "  'hacking',\n",
       "  'emulators',\n",
       "  'computer',\n",
       "  'software',\n",
       "  'database',\n",
       "  'programming',\n",
       "  'code',\n",
       "  'coding',\n",
       "  'front',\n",
       "  'end',\n",
       "  'back',\n",
       "  'end'],\n",
       " 'labor': ['labor',\n",
       "  'building',\n",
       "  'trade',\n",
       "  'unions',\n",
       "  'industrial',\n",
       "  'transportation',\n",
       "  'air',\n",
       "  'transport',\n",
       "  'public',\n",
       "  'sector',\n",
       "  'postal',\n",
       "  'teachers',\n",
       "  'lawyers',\n",
       "  'lobbyists',\n",
       "  'lawyers',\n",
       "  'law',\n",
       "  'firms',\n",
       "  'judge'],\n",
       " 'manufacturing': ['manufacturing',\n",
       "  'steel',\n",
       "  'production',\n",
       "  'manufacturing',\n",
       "  'distributing',\n",
       "  'clothing',\n",
       "  'textiles',\n",
       "  'machine',\n",
       "  'equipment',\n",
       "  'product'],\n",
       " 'tourism': ['tourism',\n",
       "  'lodging',\n",
       "  'tourist',\n",
       "  'tour',\n",
       "  'beach',\n",
       "  'hotel',\n",
       "  'motel',\n",
       "  'room',\n",
       "  'advertising',\n",
       "  'rental',\n",
       "  'rent',\n",
       "  'food',\n",
       "  'massage',\n",
       "  'spa'],\n",
       " 'transportation': ['transportation',\n",
       "  'transport',\n",
       "  'airlines',\n",
       "  'automotive',\n",
       "  'auto',\n",
       "  'manufacturers',\n",
       "  'car',\n",
       "  'dealers',\n",
       "  'trucking',\n",
       "  'rail',\n",
       "  'roads',\n",
       "  'sea',\n",
       "  'cruise',\n",
       "  'ships',\n",
       "  'lines',\n",
       "  'goods',\n",
       "  'cars',\n",
       "  'pool',\n",
       "  'passenger',\n",
       "  'traffic',\n",
       "  'highways',\n",
       "  'trailer',\n",
       "  'bus',\n",
       "  'truck']}"
      ]
     },
     "execution_count": 12,
     "metadata": {},
     "output_type": "execute_result"
    }
   ],
   "source": [
    "#Creating Training dataset from our industryList.txt file\n",
    "\n",
    "industryDictionary = {}\n",
    "fopen = open('industryList.txt')\n",
    "fopen.seek(0)\n",
    "for line in fopen:\n",
    "    industryDetails = tokenize(line)\n",
    "    industryDictionary[industryDetails[0]] = industryDetails\n",
    "\n",
    "industryDictionary\n",
    "\n"
   ]
  },
  {
   "cell_type": "code",
   "execution_count": 13,
   "metadata": {
    "collapsed": false
   },
   "outputs": [
    {
     "data": {
      "text/plain": [
       "<2284x1880 sparse matrix of type '<type 'numpy.int64'>'\n",
       "\twith 6045 stored elements in Compressed Sparse Row format>"
      ]
     },
     "execution_count": 13,
     "metadata": {},
     "output_type": "execute_result"
    }
   ],
   "source": [
    "X"
   ]
  },
  {
   "cell_type": "code",
   "execution_count": 14,
   "metadata": {
    "collapsed": false
   },
   "outputs": [
    {
     "data": {
      "text/plain": [
       "{'agribusiness': 11,\n",
       " 'communicationsandelectronics': 25,\n",
       " 'construction': 5,\n",
       " 'defence': 3,\n",
       " 'education': 33,\n",
       " 'energyandnaturalresources': 10,\n",
       " 'entertainment': 6,\n",
       " 'finance': 23,\n",
       " 'food': 3,\n",
       " 'ideologicalandsingleissue': 34,\n",
       " 'informationtechnology': 30,\n",
       " 'labor': 26,\n",
       " 'manufacturing': 9,\n",
       " 'tourism': 11,\n",
       " 'transportation': 8}"
      ]
     },
     "execution_count": 14,
     "metadata": {},
     "output_type": "execute_result"
    }
   ],
   "source": [
    "#Proof of concepts of our Analizer by checking terms into our training dataset \n",
    "#and deciding which terms are frequent in tweets for our tweet_2010 \n",
    "\n",
    "resultDirectory = {} \n",
    "for i in range(X.get_shape()[0]):\n",
    "    for j in range(X.get_shape()[1]):\n",
    "        if X[i,j]>0:\n",
    "            for k,v in industryDictionary.iteritems():\n",
    "                if  vocab[j] in v:\n",
    "                    if k in resultDirectory:  \n",
    "                        resultDirectory[k] = resultDirectory[k] + X[i,j]\n",
    "                    else:\n",
    "                        resultDirectory[k] = X[i,j]\n",
    "resultDirectory"
   ]
  },
  {
   "cell_type": "code",
   "execution_count": 15,
   "metadata": {
    "collapsed": true
   },
   "outputs": [],
   "source": [
    "# function to create feature vectors (X) for tweets\n",
    "'''\n",
    "input: List of tweets\n",
    "output: a sparce matrix and vocab of that matrix\n",
    "'''\n",
    "\n",
    "def createSparseMatrix(tweets):    \n",
    "    vectorizer = CountVectorizer(tokenizer=tokenize, min_df=2, max_df = 7)\n",
    "    X = vectorizer.fit_transform(t[1] for t in tweets)\n",
    "    vocab = np.array(vectorizer.get_feature_names())\n",
    "    return X, vocab"
   ]
  },
  {
   "cell_type": "code",
   "execution_count": 16,
   "metadata": {
    "collapsed": true
   },
   "outputs": [],
   "source": [
    "# Function to analyze input tweeter set and deciding poopular sectors of industry\n",
    "'''\n",
    "input:  X      - sparce mateix of tweets and terms\n",
    "        vocab  - vocabulary of the sparce matrix\n",
    "        industryDictionary - training dataset as directory of industry(key): related terms(values)\n",
    "        \n",
    "output: resultDirectory - output as directory of list of industry(key): popularity rank(value) #just considered occarance for now\n",
    "'''\n",
    "\n",
    "def calculatePopularSectors(X, vocab, industryDictionary):\n",
    "    resultDirectory = {} \n",
    "    for i in range(X.get_shape()[0]):\n",
    "        for j in range(X.get_shape()[1]):\n",
    "            if X[i,j]>0:\n",
    "                for k,v in industryDictionary.iteritems():\n",
    "                    if  vocab[j] in v:\n",
    "                        if k in resultDirectory:  \n",
    "                            resultDirectory[k] = resultDirectory[k] + X[i,j]\n",
    "                        else:\n",
    "                            resultDirectory[k] = X[i,j]\n",
    "    return resultDirectory"
   ]
  },
  {
   "cell_type": "code",
   "execution_count": null,
   "metadata": {
    "collapsed": false
   },
   "outputs": [],
   "source": [
    "#NOTE: Do not run this block as it contains analysis of almost 100,000 tweets by comparing terms of each, \n",
    "#      It takes too much time. We have run this part and included in our presentation and report.\n",
    "#      So, instead run the next block which takes random 3000 samples of each qarter and give us results     \n",
    "#Final run for all quater wise analysis\n",
    "\n",
    "def finalQuarterlyAnalysis(sorted_all_tweets,industryDictionary,startyear = 2015):\n",
    "    resultDirectory = {}\n",
    "    #for year in range(startyear,2016):\n",
    "    tweets_Q1 = [(key,value) for key, value in sorted_all_tweets if key > str(startyear)+'-01-01' and key < str(startyear)+'-03-31']\n",
    "    X1, vocab1 = createSparseMatrix(tweets_Q1)\n",
    "    print 'Q1 tweets vectorized %d tweets. found %d terms.' % (X1.shape[0], X1.shape[1])\n",
    "    Q1result = calculatePopularSectors(X1, vocab1, industryDictionary)\n",
    "    resultDirectory['1stQuarter 2015'] = Q1result\n",
    "\n",
    "    tweets_Q2 = [(key,value) for key, value in sorted_all_tweets if key > str(startyear)+'-04-01' and key < str(startyear)+'-06-30']\n",
    "    X2, vocab2 = createSparseMatrix(tweets_Q2)\n",
    "    print 'Q2 tweets vectorized %d tweets. found %d terms.' % (X2.shape[0], X2.shape[1])\n",
    "    Q2result = calculatePopularSectors(X2, vocab2, industryDictionary)\n",
    "    resultDirectory['2ndQuarter 2015'] = Q2result\n",
    "\n",
    "    tweets_Q3 = [(key,value) for key, value in sorted_all_tweets if key > str(startyear)+'-07-01' and key < str(startyear)+'-09-30']\n",
    "    X3, vocab3 = createSparseMatrix(tweets_Q3)\n",
    "    print 'Q3 tweets vectorized %d tweets. found %d terms.' % (X3.shape[0], X3.shape[1])\n",
    "    Q3result = calculatePopularSectors(X3, vocab3, industryDictionary)\n",
    "    resultDirectory['3rdQuarter 2015'] = Q3result\n",
    "\n",
    "    tweets_Q4 = [(key,value) for key, value in sorted_all_tweets if key > str(startyear)+'-10-01' and key < str(startyear)+'-12-31']\n",
    "    X4, vocab4 = createSparseMatrix(tweets_Q4)\n",
    "    print 'Q1 tweets vectorized %d tweets. found %d terms.' % (X4.shape[0], X4.shape[1])\n",
    "    Q4result = calculatePopularSectors(X4, vocab4, industryDictionary)\n",
    "    resultDirectory['4thQuarter 2015'] = Q4result\n",
    "    \n",
    "    return resultDirectory\n",
    "        \n",
    "resultDirectory = finalQuarterlyAnalysis(sorted_all_tweets,industryDictionary,startyear = 2015)\n",
    "\n",
    "resultDirectory"
   ]
  },
  {
   "cell_type": "code",
   "execution_count": 28,
   "metadata": {
    "collapsed": false
   },
   "outputs": [
    {
     "name": "stdout",
     "output_type": "stream",
     "text": [
      "Q1 tweets vectorized 3000 tweets. found 2802 terms.\n",
      "Q2 tweets vectorized 3000 tweets. found 2755 terms.\n",
      "Q3 tweets vectorized 3000 tweets. found 2764 terms.\n",
      "Q4 tweets vectorized 3000 tweets. found 2983 terms.\n"
     ]
    },
    {
     "data": {
      "text/plain": [
       "{'1stQuarter 2015': {'agribusiness': 18,\n",
       "  'communicationsandelectronics': 43,\n",
       "  'construction': 2,\n",
       "  'defence': 8,\n",
       "  'education': 20,\n",
       "  'energyandnaturalresources': 22,\n",
       "  'entertainment': 9,\n",
       "  'finance': 37,\n",
       "  'food': 13,\n",
       "  'health': 13,\n",
       "  'ideologicalandsingleissue': 18,\n",
       "  'informationtechnology': 45,\n",
       "  'labor': 16,\n",
       "  'manufacturing': 13,\n",
       "  'tourism': 10,\n",
       "  'transportation': 33},\n",
       " '2ndQuarter 2015': {'agribusiness': 10,\n",
       "  'communicationsandelectronics': 18,\n",
       "  'construction': 7,\n",
       "  'defence': 5,\n",
       "  'education': 30,\n",
       "  'energyandnaturalresources': 21,\n",
       "  'entertainment': 15,\n",
       "  'finance': 38,\n",
       "  'food': 20,\n",
       "  'health': 7,\n",
       "  'ideologicalandsingleissue': 31,\n",
       "  'informationtechnology': 39,\n",
       "  'labor': 20,\n",
       "  'tourism': 12,\n",
       "  'transportation': 16},\n",
       " '3rdQuarter 2015': {'agribusiness': 47,\n",
       "  'communicationsandelectronics': 37,\n",
       "  'defence': 9,\n",
       "  'education': 28,\n",
       "  'energyandnaturalresources': 7,\n",
       "  'entertainment': 9,\n",
       "  'finance': 36,\n",
       "  'food': 34,\n",
       "  'health': 8,\n",
       "  'ideologicalandsingleissue': 22,\n",
       "  'informationtechnology': 38,\n",
       "  'labor': 15,\n",
       "  'manufacturing': 20,\n",
       "  'tourism': 24,\n",
       "  'transportation': 14},\n",
       " '4thQuarter 2015': {'agribusiness': 23,\n",
       "  'communicationsandelectronics': 39,\n",
       "  'construction': 2,\n",
       "  'defence': 16,\n",
       "  'education': 29,\n",
       "  'energyandnaturalresources': 12,\n",
       "  'entertainment': 13,\n",
       "  'finance': 67,\n",
       "  'food': 38,\n",
       "  'health': 17,\n",
       "  'ideologicalandsingleissue': 47,\n",
       "  'informationtechnology': 60,\n",
       "  'labor': 29,\n",
       "  'manufacturing': 5,\n",
       "  'tourism': 10,\n",
       "  'transportation': 21}}"
      ]
     },
     "execution_count": 28,
     "metadata": {},
     "output_type": "execute_result"
    }
   ],
   "source": [
    "# Taking random samples from each quarter and calculating with our analysier to get most popular sectors in investors\n",
    "\n",
    "import random\n",
    "\n",
    "def finalQuarterlyAnalysis(sorted_all_tweets,industryDictionary,startyear = 2015):\n",
    "    resultDirectory = {}\n",
    "    #for year in range(startyear,2016):\n",
    "    tweets_Q1 = [(key,value) for key, value in sorted_all_tweets if key > str(startyear)+'-01-01' and key < str(startyear)+'-03-31']\n",
    "    random.shuffle(tweets_Q1)\n",
    "    tweets_Q1 = tweets_Q1[0:3000]\n",
    "    #print tweets_Q1\n",
    "    X1, vocab1 = createSparseMatrix(tweets_Q1)\n",
    "    print 'Q1 tweets vectorized %d tweets. found %d terms.' % (X1.shape[0], X1.shape[1])\n",
    "    Q1result = calculatePopularSectors(X1, vocab1, industryDictionary)\n",
    "    resultDirectory['1stQuarter 2015'] = Q1result\n",
    "    \n",
    "    tweets_Q2 = [(key,value) for key, value in sorted_all_tweets if key > str(startyear)+'-04-01' and key < str(startyear)+'-06-30']\n",
    "    random.shuffle(tweets_Q2)\n",
    "    tweets_Q2 = tweets_Q2[0:3000]\n",
    "    X2, vocab2 = createSparseMatrix(tweets_Q2)\n",
    "    print 'Q2 tweets vectorized %d tweets. found %d terms.' % (X2.shape[0], X2.shape[1])\n",
    "    Q2result = calculatePopularSectors(X2, vocab2, industryDictionary)\n",
    "    resultDirectory['2ndQuarter 2015'] = Q2result\n",
    "\n",
    "    tweets_Q3 = [(key,value) for key, value in sorted_all_tweets if key > str(startyear)+'-07-01' and key < str(startyear)+'-09-30']\n",
    "    random.shuffle(tweets_Q3)\n",
    "    tweets_Q3 = tweets_Q3[0:3000]\n",
    "    X3, vocab3 = createSparseMatrix(tweets_Q3)\n",
    "    print 'Q3 tweets vectorized %d tweets. found %d terms.' % (X3.shape[0], X3.shape[1])\n",
    "    Q3result = calculatePopularSectors(X3, vocab3, industryDictionary)\n",
    "    resultDirectory['3rdQuarter 2015'] = Q3result\n",
    "\n",
    "    tweets_Q4 = [(key,value) for key, value in sorted_all_tweets if key > str(startyear)+'-10-01' and key < str(startyear)+'-12-31']\n",
    "    random.shuffle(tweets_Q4)\n",
    "    tweets_Q4 = tweets_Q4[0:3000]\n",
    "    X4, vocab4 = createSparseMatrix(tweets_Q4)\n",
    "    print 'Q4 tweets vectorized %d tweets. found %d terms.' % (X4.shape[0], X4.shape[1])\n",
    "    Q4result = calculatePopularSectors(X4, vocab4, industryDictionary)\n",
    "    resultDirectory['4thQuarter 2015'] = Q4result\n",
    "\n",
    "    return resultDirectory\n",
    "        \n",
    "resultDirectory = finalQuarterlyAnalysis(sorted_all_tweets,industryDictionary,startyear = 2015)\n",
    "\n",
    "resultDirectory"
   ]
  },
  {
   "cell_type": "code",
   "execution_count": 81,
   "metadata": {
    "collapsed": true
   },
   "outputs": [],
   "source": [
    "def plot_graph(dictionary):\n",
    "    industry = []\n",
    "    trend = []\n",
    "    for items in dictionary:\n",
    "        industry.append(items)\n",
    "        trend.append(dictionary[items])\n",
    "    length = len(dictionary)\n",
    "    return industry, trend, length\n",
    "    "
   ]
  },
  {
   "cell_type": "code",
   "execution_count": 83,
   "metadata": {
    "collapsed": false
   },
   "outputs": [
    {
     "data": {
      "image/png": "[encoded data removed]",
      "text/plain": [
       "<matplotlib.figure.Figure at 0x1b18ce80>"
      ]
     },
     "metadata": {},
     "output_type": "display_data"
    },
    {
     "data": {
      "image/png": "[encoded data removed]",
      "text/plain": [
       "<matplotlib.figure.Figure at 0x1ede2f28>"
      ]
     },
     "metadata": {},
     "output_type": "display_data"
    },
    {
     "data": {
      "image/png": "[encoded data removed]",
      "text/plain": [
       "<matplotlib.figure.Figure at 0x1ef65cf8>"
      ]
     },
     "metadata": {},
     "output_type": "display_data"
    },
    {
     "data": {
      "image/png": "[encoded data removed]",
      "text/plain": [
       "<matplotlib.figure.Figure at 0x1f1d7e10>"
      ]
     },
     "metadata": {},
     "output_type": "display_data"
    }
   ],
   "source": [
    "a = resultDirectory.values()\n",
    "for i in range(4):\n",
    "    b = plot_graph(a[i])\n",
    "    x = np.arange(b[2])\n",
    "    plt.figure()\n",
    "    plt.bar(x,b[1])\n",
    "    c = plt.xticks( x + 0.5, [item.capitalize() for item in b[0]], rotation=90 )"
   ]
  },
  {
   "cell_type": "code",
   "execution_count": null,
   "metadata": {
    "collapsed": true
   },
   "outputs": [],
   "source": []
  }
 ],
 "metadata": {
  "kernelspec": {
   "display_name": "Python 2",
   "language": "python",
   "name": "python2"
  },
  "language_info": {
   "codemirror_mode": {
    "name": "ipython",
    "version": 2
   },
   "file_extension": ".py",
   "mimetype": "text/x-python",
   "name": "python",
   "nbconvert_exporter": "python",
   "pygments_lexer": "ipython2",
   "version": "2.7.10"
  }
 },
 "nbformat": 4,
 "nbformat_minor": 0
}
